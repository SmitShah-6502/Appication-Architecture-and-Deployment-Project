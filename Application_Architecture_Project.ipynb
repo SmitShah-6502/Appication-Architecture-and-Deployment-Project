{
  "nbformat": 4,
  "nbformat_minor": 0,
  "metadata": {
    "colab": {
      "provenance": []
    },
    "kernelspec": {
      "name": "python3",
      "display_name": "Python 3"
    },
    "language_info": {
      "name": "python"
    }
  },
  "cells": [
    {
      "cell_type": "code",
      "source": [
        "import pickle\n",
        "import pandas as pd\n",
        "from sklearn.model_selection import train_test_split\n",
        "from sklearn.preprocessing import LabelEncoder, OneHotEncoder\n",
        "from sklearn.ensemble import RandomForestClassifier\n",
        "from sklearn.metrics import accuracy_score\n",
        "\n",
        "# Load dataset\n",
        "file_path = \"hospital_readmissions.csv\"\n",
        "df = pd.read_csv(file_path)\n",
        "\n",
        "# Encode categorical features\n",
        "label_enc = LabelEncoder()\n",
        "df['readmitted'] = label_enc.fit_transform(df['readmitted'])  # Yes/No -> 1/0\n",
        "df['age'] = label_enc.fit_transform(df['age'])\n",
        "df['medical_specialty'] = label_enc.fit_transform(df['medical_specialty'])\n",
        "df['diag_1'] = label_enc.fit_transform(df['diag_1'])\n",
        "df['diag_2'] = label_enc.fit_transform(df['diag_2'])\n",
        "df['diag_3'] = label_enc.fit_transform(df['diag_3'])\n",
        "df['glucose_test'] = label_enc.fit_transform(df['glucose_test'])\n",
        "df['A1Ctest'] = label_enc.fit_transform(df['A1Ctest'])\n",
        "df['change'] = label_enc.fit_transform(df['change'])\n",
        "df['diabetes_med'] = label_enc.fit_transform(df['diabetes_med'])\n",
        "\n",
        "# Define features and target\n",
        "X = df.drop(columns=['readmitted'])\n",
        "y = df['readmitted']\n",
        "\n",
        "# Train-test split\n",
        "X_train, X_test, y_train, y_test = train_test_split(X, y, test_size=0.2, random_state=42)\n",
        "\n",
        "# Save train-test data\n",
        "with open(\"train_test_data.pkl\", \"wb\") as f:\n",
        "    pickle.dump((X_train, X_test, y_train, y_test), f)\n",
        "\n",
        "# Train model\n",
        "model = RandomForestClassifier(n_estimators=100, random_state=42)\n",
        "model.fit(X_train, y_train)\n",
        "\n",
        "# Evaluate model\n",
        "y_pred = model.predict(X_test)\n",
        "accuracy = accuracy_score(y_test, y_pred)\n",
        "print(f\"Model Accuracy: {accuracy:.2f}\")\n",
        "\n",
        "# Save the trained model\n",
        "with open(\"readmission_model.pkl\", \"wb\") as f:\n",
        "    pickle.dump(model, f)\n",
        "\n",
        "print(\"Model training complete! Saved as readmission_model.pkl\")\n"
      ],
      "metadata": {
        "id": "iGRRl1sOQcZx",
        "colab": {
          "base_uri": "https://localhost:8080/"
        },
        "outputId": "32e5ff2e-93c5-43c6-d072-eee477301f69"
      },
      "execution_count": 1,
      "outputs": [
        {
          "output_type": "stream",
          "name": "stdout",
          "text": [
            "Model Accuracy: 0.60\n",
            "Model training complete! Saved as readmission_model.pkl\n"
          ]
        }
      ]
    },
    {
      "cell_type": "code",
      "source": [
        "# Save the processed dataset\n",
        "df.to_csv(\"processed_hospital_readmissions.csv\", index=False)  # 🔹"
      ],
      "metadata": {
        "id": "f8KKmLDllRTd"
      },
      "execution_count": 2,
      "outputs": []
    },
    {
      "cell_type": "code",
      "source": [],
      "metadata": {
        "id": "0fD4S5pEtxuO"
      },
      "execution_count": null,
      "outputs": []
    }
  ]
}